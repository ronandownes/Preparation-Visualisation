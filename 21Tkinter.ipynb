{
 "cells": [
  {
   "cell_type": "code",
   "execution_count": 4,
   "metadata": {},
   "outputs": [],
   "source": [
    "import tkinter as tk"
   ]
  },
  {
   "cell_type": "code",
   "execution_count": 5,
   "metadata": {},
   "outputs": [],
   "source": [
    "window = tk.Tk() "
   ]
  },
  {
   "cell_type": "code",
   "execution_count": 6,
   "metadata": {},
   "outputs": [],
   "source": [
    "window.mainloop()"
   ]
  },
  {
   "cell_type": "code",
   "execution_count": 7,
   "metadata": {},
   "outputs": [],
   "source": [
    "from tkinter import * \n",
    "window = Tk() \n",
    "window.title(\"Welcome to MyDemo app\") \n",
    "window.mainloop()"
   ]
  },
  {
   "cell_type": "code",
   "execution_count": 8,
   "metadata": {},
   "outputs": [],
   "source": [
    "from tkinter import * \n",
    "window = Tk() \n",
    "window.title(\"Welcome to MyDemo app\") \n",
    "lbl = Label(window, text=\"Hello\") \n",
    "lbl.grid(column=0, row=0) \n",
    "window.mainloop() "
   ]
  },
  {
   "cell_type": "code",
   "execution_count": 9,
   "metadata": {},
   "outputs": [],
   "source": [
    "from tkinter import * \n",
    "window = Tk() \n",
    "window.title(\"Welcome to MyDemo app\") \n",
    "lbl = Label(window, text=\"Hello\", font=(\"Arial Bold\", 50)) \n",
    "lbl.grid(column=0, row=0) \n",
    "window.mainloop() "
   ]
  },
  {
   "cell_type": "code",
   "execution_count": 11,
   "metadata": {},
   "outputs": [],
   "source": [
    "from tkinter import * \n",
    "window = Tk() \n",
    "window.title(\"Welcome to MyDemo app\") \n",
    "window.geometry('500x300')\n",
    "lbl = Label(window, text=\"Hello\", font=(\"Arial Bold\", 50)) \n",
    "lbl.grid(column=0, row=0) \n",
    "window.mainloop() "
   ]
  },
  {
   "cell_type": "code",
   "execution_count": 13,
   "metadata": {},
   "outputs": [],
   "source": [
    "from tkinter import * \n",
    "window = Tk() \n",
    "window.title(\"Welcome to MyDemo app\") \n",
    "window.geometry('350x200')\n",
    "lbl = Label(window, text=\"Hello\") \n",
    "lbl.grid(column=0, row=0)\n",
    "btn = Button(window, text=\"Click Me\")\n",
    "btn.grid(column=1, row=0) \n",
    "window.mainloop() "
   ]
  },
  {
   "cell_type": "code",
   "execution_count": 14,
   "metadata": {},
   "outputs": [],
   "source": [
    "from tkinter import * \n",
    "window = Tk() \n",
    "window.title(\"Welcome to MyDemo app\") \n",
    "window.geometry('350x200')\n",
    "lbl = Label(window, text=\"Hello\") \n",
    "lbl.grid(column=0, row=0)\n",
    "btn = Button(window, text=\"Click Me\", bg=\"orange\", fg=\"red\")\n",
    "btn.grid(column=1, row=0) \n",
    "window.mainloop() "
   ]
  },
  {
   "cell_type": "code",
   "execution_count": 15,
   "metadata": {},
   "outputs": [],
   "source": [
    "from tkinter import * \n",
    "window = Tk() \n",
    "window.title(\"Welcome to MyDemo app\") \n",
    "window.geometry('350x200')\n",
    "lbl = Label(window, text=\"Hello\") \n",
    "lbl.grid(column=0, row=0)\n",
    "\n",
    "def clicked():     \n",
    "    lbl.configure(text=\"Button was clicked !!\") \n",
    "\n",
    "\n",
    "btn = Button(window, text=\"Click Me\",command=clicked)\n",
    "btn.grid(column=1, row=0) \n",
    "window.mainloop() "
   ]
  },
  {
   "cell_type": "code",
   "execution_count": 16,
   "metadata": {},
   "outputs": [],
   "source": [
    "from tkinter import * \n",
    "window = Tk() \n",
    "window.title(\"Welcome to MyDemo app\") \n",
    "window.geometry('350x200')\n",
    "lbl = Label(window, text=\"Hello\") \n",
    "lbl.grid(column=0, row=0)\n",
    "\n",
    "txt = Entry(window,width=10) \n",
    "txt.grid(column=1, row=0) \n",
    "\n",
    "def clicked():     \n",
    "    lbl.configure(text=\"Button was clicked !!\") \n",
    "\n",
    "\n",
    "btn = Button(window, text=\"Click Me\",command=clicked)\n",
    "btn.grid(column=2, row=0) \n",
    "window.mainloop() "
   ]
  },
  {
   "cell_type": "code",
   "execution_count": 22,
   "metadata": {},
   "outputs": [],
   "source": [
    "from tkinter import * \n",
    "window = Tk() \n",
    "window.title(\"Welcome to MyDemo app\") \n",
    "window.geometry('350x200')\n",
    "lbl = Label(window, text=\"Hello\") \n",
    "lbl.grid(column=0, row=0)\n",
    "\n",
    "txt = Entry(window,width=10, state=\"disabled\") \n",
    "txt.grid(column=1, row=0) \n",
    "\n",
    "def clicked():\n",
    "    res = \"Welcome to \" + txt.get() \n",
    "    lbl.configure(text=res) \n",
    "\n",
    "\n",
    "btn = Button(window, text=\"Click Me\",command=clicked)\n",
    "btn.grid(column=2, row=0) \n",
    "window.mainloop() "
   ]
  },
  {
   "cell_type": "code",
   "execution_count": 23,
   "metadata": {},
   "outputs": [],
   "source": [
    "from tkinter import *\n",
    "from tkinter.ttk import * \n",
    "window = Tk() \n",
    "window.title(\"Welcome to MyDemo app\") \n",
    "window.geometry('350x200')\n",
    "\n",
    "combo = Combobox(window) \n",
    "combo['values']= (1, 2, 3, 4, 5, \"Text\") \n",
    "combo.current(1)\n",
    "combo.grid(column=0, row=0)\n",
    "\n",
    "window.mainloop() "
   ]
  },
  {
   "cell_type": "code",
   "execution_count": null,
   "metadata": {},
   "outputs": [],
   "source": []
  },
  {
   "cell_type": "code",
   "execution_count": null,
   "metadata": {},
   "outputs": [],
   "source": []
  }
 ],
 "metadata": {
  "kernelspec": {
   "display_name": "Python 3 (ipykernel)",
   "language": "python",
   "name": "python3"
  },
  "language_info": {
   "codemirror_mode": {
    "name": "ipython",
    "version": 3
   },
   "file_extension": ".py",
   "mimetype": "text/x-python",
   "name": "python",
   "nbconvert_exporter": "python",
   "pygments_lexer": "ipython3",
   "version": "3.9.12"
  }
 },
 "nbformat": 4,
 "nbformat_minor": 4
}
